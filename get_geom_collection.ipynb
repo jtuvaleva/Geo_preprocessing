{
 "cells": [
  {
   "cell_type": "code",
   "execution_count": 2,
   "metadata": {
    "ExecuteTime": {
     "end_time": "2020-05-13T19:48:54.724654Z",
     "start_time": "2020-05-13T19:48:50.373309Z"
    }
   },
   "outputs": [],
   "source": [
    "import pandas as pd\n",
    "import fiona\n",
    "import geopandas as gpd\n",
    "%matplotlib inline\n",
    "\n",
    "from matplotlib import pyplot as plt\n",
    "import seaborn as sns\n",
    "\n",
    "import json\n",
    "import requests\n",
    "from tqdm import tqdm_notebook\n",
    "from shapely.geometry import Polygon, MultiPolygon, shape"
   ]
  },
  {
   "cell_type": "markdown",
   "metadata": {},
   "source": [
    "__Проверяю директорию, в которой сохранен данный ноутбук__"
   ]
  },
  {
   "cell_type": "code",
   "execution_count": 3,
   "metadata": {
    "ExecuteTime": {
     "end_time": "2020-05-13T19:48:58.070859Z",
     "start_time": "2020-05-13T19:48:57.938587Z"
    }
   },
   "outputs": [
    {
     "name": "stdout",
     "output_type": "stream",
     "text": [
      "/Users/juliatuvaleva/Documents/Python_test_new/LazyHackathon\r\n"
     ]
    }
   ],
   "source": [
    "!pwd"
   ]
  },
  {
   "cell_type": "markdown",
   "metadata": {},
   "source": [
    "__С помощью open загружаю json файл__"
   ]
  },
  {
   "cell_type": "code",
   "execution_count": 4,
   "metadata": {
    "ExecuteTime": {
     "end_time": "2020-05-13T19:49:00.395552Z",
     "start_time": "2020-05-13T19:49:00.212648Z"
    }
   },
   "outputs": [],
   "source": [
    "with open('../data-24713-2020-05-06.json', 'r', encoding='cp1251', errors='ignore') as data_file:\n",
    "    data_loaded = json.load(data_file)"
   ]
  },
  {
   "cell_type": "markdown",
   "metadata": {},
   "source": [
    "__Конвертирую загруженный json-файл в pandas dataframe__"
   ]
  },
  {
   "cell_type": "code",
   "execution_count": 5,
   "metadata": {
    "ExecuteTime": {
     "end_time": "2020-05-13T19:49:03.679084Z",
     "start_time": "2020-05-13T19:49:03.593046Z"
    }
   },
   "outputs": [
    {
     "data": {
      "text/html": [
       "<div>\n",
       "<style scoped>\n",
       "    .dataframe tbody tr th:only-of-type {\n",
       "        vertical-align: middle;\n",
       "    }\n",
       "\n",
       "    .dataframe tbody tr th {\n",
       "        vertical-align: top;\n",
       "    }\n",
       "\n",
       "    .dataframe thead th {\n",
       "        text-align: right;\n",
       "    }\n",
       "</style>\n",
       "<table border=\"1\" class=\"dataframe\">\n",
       "  <thead>\n",
       "    <tr style=\"text-align: right;\">\n",
       "      <th></th>\n",
       "      <th>AdmArea</th>\n",
       "      <th>AreaCoordinates</th>\n",
       "      <th>CadastralNumber</th>\n",
       "      <th>ChildEntries</th>\n",
       "      <th>ConsrtuctionWorkType</th>\n",
       "      <th>Coordinates</th>\n",
       "      <th>DeveloperInfo</th>\n",
       "      <th>DevelopmentArea</th>\n",
       "      <th>District</th>\n",
       "      <th>EntryAddReason</th>\n",
       "      <th>...</th>\n",
       "      <th>ID</th>\n",
       "      <th>MainFunctional</th>\n",
       "      <th>ObjectAddress</th>\n",
       "      <th>ObjectName</th>\n",
       "      <th>ObjectStatus</th>\n",
       "      <th>ParentEntries</th>\n",
       "      <th>Permission</th>\n",
       "      <th>SourceOfFinance</th>\n",
       "      <th>geoData</th>\n",
       "      <th>global_id</th>\n",
       "    </tr>\n",
       "  </thead>\n",
       "  <tbody>\n",
       "    <tr>\n",
       "      <th>0</th>\n",
       "      <td>[Восточный административный округ]</td>\n",
       "      <td>37.693007979961,55.797586603633; 37.6930452283...</td>\n",
       "      <td>77:03:0003010:1008</td>\n",
       "      <td>[]</td>\n",
       "      <td>новое строительство</td>\n",
       "      <td>37.730303630757,55.776713288848</td>\n",
       "      <td>[{'OrgForm': 'Гаражно-строительный кооператив'...</td>\n",
       "      <td>1140.0</td>\n",
       "      <td>[район Соколиная Гора, район Сокольники]</td>\n",
       "      <td>новый объект</td>\n",
       "      <td>...</td>\n",
       "      <td>776</td>\n",
       "      <td>Подземная стоянка</td>\n",
       "      <td>Москва, ВАО, район Сокольники, улица Короленко...</td>\n",
       "      <td>Подземная автостоянка</td>\n",
       "      <td>в строительстве</td>\n",
       "      <td>[]</td>\n",
       "      <td>[{'PermissionFile': [{'PermissionFile': 'fa383...</td>\n",
       "      <td>внебюджетные источники</td>\n",
       "      <td>{'type': 'GeometryCollection', 'geometries': [...</td>\n",
       "      <td>272715485</td>\n",
       "    </tr>\n",
       "    <tr>\n",
       "      <th>1</th>\n",
       "      <td>[Юго-Западный административный округ, Западный...</td>\n",
       "      <td>37.489585311279,55.6255477403393; 37.489012978...</td>\n",
       "      <td>77:06:0007002:40</td>\n",
       "      <td>[]</td>\n",
       "      <td>новое строительство</td>\n",
       "      <td>37.425808881626,55.662227471026</td>\n",
       "      <td>[{'OrgForm': 'Религиозная организация (объедин...</td>\n",
       "      <td>1295.0</td>\n",
       "      <td>[район Тёплый Стан, район Солнцево]</td>\n",
       "      <td>новый объект</td>\n",
       "      <td>...</td>\n",
       "      <td>777</td>\n",
       "      <td>Храм</td>\n",
       "      <td>Москва, ЮЗАО, Теплый Стан, Теплый стан ул. вл....</td>\n",
       "      <td>Храмовый комплекс</td>\n",
       "      <td>в строительстве</td>\n",
       "      <td>[]</td>\n",
       "      <td>[{'PermissionFile': [{'PermissionFile': '1b7ad...</td>\n",
       "      <td>внебюджетные источники</td>\n",
       "      <td>{'type': 'GeometryCollection', 'geometries': [...</td>\n",
       "      <td>272715489</td>\n",
       "    </tr>\n",
       "    <tr>\n",
       "      <th>2</th>\n",
       "      <td>[Юго-Западный административный округ, Западный...</td>\n",
       "      <td>37.5690831463999,55.6853873827864; 37.56933548...</td>\n",
       "      <td>77:06:0003003:76</td>\n",
       "      <td>[]</td>\n",
       "      <td>новое строительство</td>\n",
       "      <td>37.530500567352,55.707343486183</td>\n",
       "      <td>[{'OrgForm': 'Акционерное общество', 'OrgName'...</td>\n",
       "      <td>14061.5</td>\n",
       "      <td>[Академический район, район Раменки]</td>\n",
       "      <td>новый объект</td>\n",
       "      <td>...</td>\n",
       "      <td>779</td>\n",
       "      <td>Офисное здание</td>\n",
       "      <td>Москва, ЮЗАО, район Академический, Профсоюзная...</td>\n",
       "      <td>Общественно-культурный центр с подземным гаражом</td>\n",
       "      <td>в строительстве</td>\n",
       "      <td>[]</td>\n",
       "      <td>[{'PermissionFile': [{'PermissionFile': '76434...</td>\n",
       "      <td>внебюджетные источники</td>\n",
       "      <td>{'type': 'GeometryCollection', 'geometries': [...</td>\n",
       "      <td>272715492</td>\n",
       "    </tr>\n",
       "    <tr>\n",
       "      <th>3</th>\n",
       "      <td>[Юго-Восточный административный округ]</td>\n",
       "      <td>37.7413731119759,55.690594894297; 37.741811903...</td>\n",
       "      <td>77:04:0004008:63</td>\n",
       "      <td>[]</td>\n",
       "      <td>новое строительство</td>\n",
       "      <td>37.741970758303,55.690432838423</td>\n",
       "      <td>[{'OrgName': 'МГПСС (ГКУ)'}]</td>\n",
       "      <td>286.0</td>\n",
       "      <td>[район Люблино, район Текстильщики]</td>\n",
       "      <td>новый объект</td>\n",
       "      <td>...</td>\n",
       "      <td>781</td>\n",
       "      <td>Объект аварийно-спасательной службы, формирования</td>\n",
       "      <td>г. Москва, ЮВАО, район Текстильщики, улица Шку...</td>\n",
       "      <td>Поисково-спасательная станция  (1-я очередь)</td>\n",
       "      <td>в строительстве</td>\n",
       "      <td>[]</td>\n",
       "      <td>[{'PermissionFile': [{'PermissionFile': 'e50c3...</td>\n",
       "      <td>городской бюджет</td>\n",
       "      <td>{'type': 'GeometryCollection', 'geometries': [...</td>\n",
       "      <td>272715504</td>\n",
       "    </tr>\n",
       "    <tr>\n",
       "      <th>4</th>\n",
       "      <td>[Центральный административный округ, Юго-Восто...</td>\n",
       "      <td>37.5947376978846,55.7714497629348; 37.59631350...</td>\n",
       "      <td>77:01:0004011:83</td>\n",
       "      <td>[]</td>\n",
       "      <td>новое строительство</td>\n",
       "      <td>37.682514557164,55.721826241818</td>\n",
       "      <td>[{'OrgForm': 'Закрытое акционерное общество', ...</td>\n",
       "      <td>4150.0</td>\n",
       "      <td>[Тверской район, Южнопортовый район]</td>\n",
       "      <td>новый объект</td>\n",
       "      <td>...</td>\n",
       "      <td>751</td>\n",
       "      <td>Гостиница</td>\n",
       "      <td>Москва, ЦАО, район Тверской, ул. 1-я Тверская-...</td>\n",
       "      <td>Гостиничный комплекс</td>\n",
       "      <td>в строительстве</td>\n",
       "      <td>[]</td>\n",
       "      <td>[{'PermissionFile': [{'PermissionFile': 'a34d3...</td>\n",
       "      <td>внебюджетные источники</td>\n",
       "      <td>{'type': 'GeometryCollection', 'geometries': [...</td>\n",
       "      <td>272715510</td>\n",
       "    </tr>\n",
       "  </tbody>\n",
       "</table>\n",
       "<p>5 rows × 26 columns</p>\n",
       "</div>"
      ],
      "text/plain": [
       "                                             AdmArea  \\\n",
       "0                 [Восточный административный округ]   \n",
       "1  [Юго-Западный административный округ, Западный...   \n",
       "2  [Юго-Западный административный округ, Западный...   \n",
       "3             [Юго-Восточный административный округ]   \n",
       "4  [Центральный административный округ, Юго-Восто...   \n",
       "\n",
       "                                     AreaCoordinates     CadastralNumber  \\\n",
       "0  37.693007979961,55.797586603633; 37.6930452283...  77:03:0003010:1008   \n",
       "1  37.489585311279,55.6255477403393; 37.489012978...    77:06:0007002:40   \n",
       "2  37.5690831463999,55.6853873827864; 37.56933548...    77:06:0003003:76   \n",
       "3  37.7413731119759,55.690594894297; 37.741811903...    77:04:0004008:63   \n",
       "4  37.5947376978846,55.7714497629348; 37.59631350...    77:01:0004011:83   \n",
       "\n",
       "  ChildEntries ConsrtuctionWorkType                      Coordinates  \\\n",
       "0           []  новое строительство  37.730303630757,55.776713288848   \n",
       "1           []  новое строительство  37.425808881626,55.662227471026   \n",
       "2           []  новое строительство  37.530500567352,55.707343486183   \n",
       "3           []  новое строительство  37.741970758303,55.690432838423   \n",
       "4           []  новое строительство  37.682514557164,55.721826241818   \n",
       "\n",
       "                                       DeveloperInfo  DevelopmentArea  \\\n",
       "0  [{'OrgForm': 'Гаражно-строительный кооператив'...           1140.0   \n",
       "1  [{'OrgForm': 'Религиозная организация (объедин...           1295.0   \n",
       "2  [{'OrgForm': 'Акционерное общество', 'OrgName'...          14061.5   \n",
       "3                       [{'OrgName': 'МГПСС (ГКУ)'}]            286.0   \n",
       "4  [{'OrgForm': 'Закрытое акционерное общество', ...           4150.0   \n",
       "\n",
       "                                   District EntryAddReason  ...   ID  \\\n",
       "0  [район Соколиная Гора, район Сокольники]   новый объект  ...  776   \n",
       "1       [район Тёплый Стан, район Солнцево]   новый объект  ...  777   \n",
       "2      [Академический район, район Раменки]   новый объект  ...  779   \n",
       "3       [район Люблино, район Текстильщики]   новый объект  ...  781   \n",
       "4      [Тверской район, Южнопортовый район]   новый объект  ...  751   \n",
       "\n",
       "                                      MainFunctional  \\\n",
       "0                                  Подземная стоянка   \n",
       "1                                               Храм   \n",
       "2                                     Офисное здание   \n",
       "3  Объект аварийно-спасательной службы, формирования   \n",
       "4                                          Гостиница   \n",
       "\n",
       "                                       ObjectAddress  \\\n",
       "0  Москва, ВАО, район Сокольники, улица Короленко...   \n",
       "1  Москва, ЮЗАО, Теплый Стан, Теплый стан ул. вл....   \n",
       "2  Москва, ЮЗАО, район Академический, Профсоюзная...   \n",
       "3  г. Москва, ЮВАО, район Текстильщики, улица Шку...   \n",
       "4  Москва, ЦАО, район Тверской, ул. 1-я Тверская-...   \n",
       "\n",
       "                                         ObjectName     ObjectStatus  \\\n",
       "0                             Подземная автостоянка  в строительстве   \n",
       "1                                 Храмовый комплекс  в строительстве   \n",
       "2  Общественно-культурный центр с подземным гаражом  в строительстве   \n",
       "3      Поисково-спасательная станция  (1-я очередь)  в строительстве   \n",
       "4                              Гостиничный комплекс  в строительстве   \n",
       "\n",
       "  ParentEntries                                         Permission  \\\n",
       "0            []  [{'PermissionFile': [{'PermissionFile': 'fa383...   \n",
       "1            []  [{'PermissionFile': [{'PermissionFile': '1b7ad...   \n",
       "2            []  [{'PermissionFile': [{'PermissionFile': '76434...   \n",
       "3            []  [{'PermissionFile': [{'PermissionFile': 'e50c3...   \n",
       "4            []  [{'PermissionFile': [{'PermissionFile': 'a34d3...   \n",
       "\n",
       "          SourceOfFinance                                            geoData  \\\n",
       "0  внебюджетные источники  {'type': 'GeometryCollection', 'geometries': [...   \n",
       "1  внебюджетные источники  {'type': 'GeometryCollection', 'geometries': [...   \n",
       "2  внебюджетные источники  {'type': 'GeometryCollection', 'geometries': [...   \n",
       "3        городской бюджет  {'type': 'GeometryCollection', 'geometries': [...   \n",
       "4  внебюджетные источники  {'type': 'GeometryCollection', 'geometries': [...   \n",
       "\n",
       "   global_id  \n",
       "0  272715485  \n",
       "1  272715489  \n",
       "2  272715492  \n",
       "3  272715504  \n",
       "4  272715510  \n",
       "\n",
       "[5 rows x 26 columns]"
      ]
     },
     "execution_count": 5,
     "metadata": {},
     "output_type": "execute_result"
    }
   ],
   "source": [
    "df_pd = pd.DataFrame(data_loaded)\n",
    "\n",
    "df_pd.head()"
   ]
  },
  {
   "cell_type": "markdown",
   "metadata": {},
   "source": [
    "__Проверяю число строк в датафрэйме__"
   ]
  },
  {
   "cell_type": "code",
   "execution_count": 6,
   "metadata": {
    "ExecuteTime": {
     "end_time": "2020-05-13T19:49:10.525189Z",
     "start_time": "2020-05-13T19:49:10.514631Z"
    }
   },
   "outputs": [
    {
     "data": {
      "text/plain": [
       "1572"
      ]
     },
     "execution_count": 6,
     "metadata": {},
     "output_type": "execute_result"
    }
   ],
   "source": [
    "len(df_pd)"
   ]
  },
  {
   "cell_type": "markdown",
   "metadata": {},
   "source": [
    "__Выгружаю геометрию из джейсона__"
   ]
  },
  {
   "cell_type": "code",
   "execution_count": 8,
   "metadata": {
    "ExecuteTime": {
     "end_time": "2020-05-13T19:50:56.810609Z",
     "start_time": "2020-05-13T19:50:56.700251Z"
    }
   },
   "outputs": [
    {
     "data": {
      "text/plain": [
       "True"
      ]
     },
     "execution_count": 8,
     "metadata": {},
     "output_type": "execute_result"
    }
   ],
   "source": [
    "df_pd = df_pd.dropna(subset = ['geoData'], axis = 0)\n",
    "\n",
    "df_pd['geometry'] = df_pd['geoData'].apply(lambda x: shape(x))\n",
    "\n",
    "## проверяю строки с пустой геометрией, если len == 0 строк, \n",
    "##значит геометрия полностью и корректно преобразована\n",
    "len(df_pd[df_pd['geometry'].isnull()]) == 0"
   ]
  },
  {
   "cell_type": "code",
   "execution_count": 9,
   "metadata": {
    "ExecuteTime": {
     "end_time": "2020-05-13T19:50:59.718803Z",
     "start_time": "2020-05-13T19:50:59.704740Z"
    }
   },
   "outputs": [
    {
     "data": {
      "text/plain": [
       "1572"
      ]
     },
     "execution_count": 9,
     "metadata": {},
     "output_type": "execute_result"
    }
   ],
   "source": [
    "df_pd = df_pd.dropna(subset = ['geoData'], axis = 0)\n",
    "\n",
    "len(df_pd)"
   ]
  },
  {
   "cell_type": "markdown",
   "metadata": {
    "ExecuteTime": {
     "end_time": "2020-05-13T19:51:18.167980Z",
     "start_time": "2020-05-13T19:51:18.160302Z"
    }
   },
   "source": [
    "__Создаю геодатафрэйм__"
   ]
  },
  {
   "cell_type": "code",
   "execution_count": 10,
   "metadata": {
    "ExecuteTime": {
     "end_time": "2020-05-13T19:51:01.814406Z",
     "start_time": "2020-05-13T19:51:01.723706Z"
    }
   },
   "outputs": [
    {
     "name": "stdout",
     "output_type": "stream",
     "text": [
      "<class 'geopandas.geodataframe.GeoDataFrame'>\n",
      "Int64Index: 1572 entries, 0 to 1571\n",
      "Data columns (total 27 columns):\n",
      "AdmArea                 1572 non-null object\n",
      "AreaCoordinates         1572 non-null object\n",
      "CadastralNumber         1558 non-null object\n",
      "ChildEntries            1572 non-null object\n",
      "ConsrtuctionWorkType    1572 non-null object\n",
      "Coordinates             1572 non-null object\n",
      "DeveloperInfo           1572 non-null object\n",
      "DevelopmentArea         1548 non-null float64\n",
      "District                1572 non-null object\n",
      "EntryAddReason          1572 non-null object\n",
      "EntryState              1572 non-null object\n",
      "FloorsAmount            1522 non-null object\n",
      "FunctionalForNG         1572 non-null object\n",
      "GPZUDocumentDate        1164 non-null object\n",
      "GPZUDocumentNumber      1508 non-null object\n",
      "GPZUDocumentStatus      1508 non-null object\n",
      "ID                      1572 non-null int64\n",
      "MainFunctional          1572 non-null object\n",
      "ObjectAddress           1572 non-null object\n",
      "ObjectName              1572 non-null object\n",
      "ObjectStatus            1572 non-null object\n",
      "ParentEntries           1572 non-null object\n",
      "Permission              1572 non-null object\n",
      "SourceOfFinance         1572 non-null object\n",
      "geoData                 1572 non-null object\n",
      "global_id               1572 non-null int64\n",
      "geometry                1572 non-null geometry\n",
      "dtypes: float64(1), geometry(1), int64(2), object(23)\n",
      "memory usage: 343.9+ KB\n"
     ]
    }
   ],
   "source": [
    "df_pd = gpd.GeoDataFrame(data=df_pd, \n",
    "                               geometry = df_pd['geometry'], \n",
    "                               crs = {'init':'epsg:4326'})\n",
    "\n",
    "df_pd.info()"
   ]
  },
  {
   "cell_type": "markdown",
   "metadata": {},
   "source": [
    "__Ивлечение необходимого типа геометрии из GeometryCollection__ <br> По сути это просто лист из двух и более типов объектов и нужно вытащить интересующий тип геометрии"
   ]
  },
  {
   "cell_type": "code",
   "execution_count": 13,
   "metadata": {
    "ExecuteTime": {
     "end_time": "2020-05-13T19:56:47.642598Z",
     "start_time": "2020-05-13T19:56:47.631610Z"
    }
   },
   "outputs": [],
   "source": [
    "def get_plgn(geom, shape_type):\n",
    "    '''\n",
    "    geom - колонка с геометрией объекта\n",
    "    shape_type - тип геометрии, который нужно извлечь (POLYGON, POINT etc)\n",
    "    '''\n",
    "    geom_type = list(geom)\n",
    "    target = [i for i in geom_type if shape_type in str(i) ]\n",
    "    return target"
   ]
  },
  {
   "cell_type": "code",
   "execution_count": 14,
   "metadata": {
    "ExecuteTime": {
     "end_time": "2020-05-13T19:56:57.480719Z",
     "start_time": "2020-05-13T19:56:57.074382Z"
    }
   },
   "outputs": [
    {
     "data": {
      "text/plain": [
       "Index(['AdmArea', 'AreaCoordinates', 'CadastralNumber', 'ChildEntries',\n",
       "       'ConsrtuctionWorkType', 'Coordinates', 'DeveloperInfo',\n",
       "       'DevelopmentArea', 'District', 'EntryAddReason', 'EntryState',\n",
       "       'FloorsAmount', 'FunctionalForNG', 'GPZUDocumentDate',\n",
       "       'GPZUDocumentNumber', 'GPZUDocumentStatus', 'ID', 'MainFunctional',\n",
       "       'ObjectAddress', 'ObjectName', 'ObjectStatus', 'ParentEntries',\n",
       "       'Permission', 'SourceOfFinance', 'geoData', 'global_id', 'geometry'],\n",
       "      dtype='object')"
      ]
     },
     "execution_count": 14,
     "metadata": {},
     "output_type": "execute_result"
    }
   ],
   "source": [
    "df_pd['geometry'] = df_pd['geometry'].apply(lambda x: get_plgn(x, 'POLYGON')[0])\n",
    "\n",
    "df_pd.columns"
   ]
  },
  {
   "cell_type": "code",
   "execution_count": 15,
   "metadata": {
    "ExecuteTime": {
     "end_time": "2020-05-13T19:56:59.166983Z",
     "start_time": "2020-05-13T19:56:59.124097Z"
    }
   },
   "outputs": [],
   "source": [
    "df_pd['AdmArea'] = df_pd['AdmArea'].apply(lambda x: x[0])\n",
    "df_pd['DeveloperInfo'] = df_pd['DeveloperInfo'].apply(lambda x: x[0]['OrgName'])"
   ]
  },
  {
   "cell_type": "code",
   "execution_count": 17,
   "metadata": {
    "ExecuteTime": {
     "end_time": "2020-05-13T19:57:41.061317Z",
     "start_time": "2020-05-13T19:57:41.018685Z"
    }
   },
   "outputs": [
    {
     "data": {
      "text/html": [
       "<div>\n",
       "<style scoped>\n",
       "    .dataframe tbody tr th:only-of-type {\n",
       "        vertical-align: middle;\n",
       "    }\n",
       "\n",
       "    .dataframe tbody tr th {\n",
       "        vertical-align: top;\n",
       "    }\n",
       "\n",
       "    .dataframe thead th {\n",
       "        text-align: right;\n",
       "    }\n",
       "</style>\n",
       "<table border=\"1\" class=\"dataframe\">\n",
       "  <thead>\n",
       "    <tr style=\"text-align: right;\">\n",
       "      <th></th>\n",
       "      <th>global_id</th>\n",
       "      <th>CadastralNumber</th>\n",
       "      <th>ObjectStatus</th>\n",
       "      <th>AdmArea</th>\n",
       "      <th>ConsrtuctionWorkType</th>\n",
       "      <th>DeveloperInfo</th>\n",
       "      <th>geometry</th>\n",
       "    </tr>\n",
       "  </thead>\n",
       "  <tbody>\n",
       "    <tr>\n",
       "      <th>0</th>\n",
       "      <td>272715485</td>\n",
       "      <td>77:03:0003010:1008</td>\n",
       "      <td>в строительстве</td>\n",
       "      <td>Восточный административный округ</td>\n",
       "      <td>новое строительство</td>\n",
       "      <td>Причал</td>\n",
       "      <td>POLYGON ((37.69301 55.79759, 37.69305 55.79761...</td>\n",
       "    </tr>\n",
       "    <tr>\n",
       "      <th>1</th>\n",
       "      <td>272715489</td>\n",
       "      <td>77:06:0007002:40</td>\n",
       "      <td>в строительстве</td>\n",
       "      <td>Юго-Западный административный округ</td>\n",
       "      <td>новое строительство</td>\n",
       "      <td>Местная религиозная организация православный п...</td>\n",
       "      <td>POLYGON ((37.48959 55.62555, 37.48901 55.62576...</td>\n",
       "    </tr>\n",
       "    <tr>\n",
       "      <th>2</th>\n",
       "      <td>272715492</td>\n",
       "      <td>77:06:0003003:76</td>\n",
       "      <td>в строительстве</td>\n",
       "      <td>Юго-Западный административный округ</td>\n",
       "      <td>новое строительство</td>\n",
       "      <td>СУ155</td>\n",
       "      <td>POLYGON ((37.56908 55.68539, 37.56934 55.68540...</td>\n",
       "    </tr>\n",
       "    <tr>\n",
       "      <th>3</th>\n",
       "      <td>272715504</td>\n",
       "      <td>77:04:0004008:63</td>\n",
       "      <td>в строительстве</td>\n",
       "      <td>Юго-Восточный административный округ</td>\n",
       "      <td>новое строительство</td>\n",
       "      <td>МГПСС (ГКУ)</td>\n",
       "      <td>POLYGON ((37.74137 55.69059, 37.74181 55.69040...</td>\n",
       "    </tr>\n",
       "    <tr>\n",
       "      <th>4</th>\n",
       "      <td>272715510</td>\n",
       "      <td>77:01:0004011:83</td>\n",
       "      <td>в строительстве</td>\n",
       "      <td>Центральный административный округ</td>\n",
       "      <td>новое строительство</td>\n",
       "      <td>ФСК Русское ЗолотоСтройинвест</td>\n",
       "      <td>POLYGON ((37.59474 55.77145, 37.59631 55.77053...</td>\n",
       "    </tr>\n",
       "  </tbody>\n",
       "</table>\n",
       "</div>"
      ],
      "text/plain": [
       "   global_id     CadastralNumber     ObjectStatus  \\\n",
       "0  272715485  77:03:0003010:1008  в строительстве   \n",
       "1  272715489    77:06:0007002:40  в строительстве   \n",
       "2  272715492    77:06:0003003:76  в строительстве   \n",
       "3  272715504    77:04:0004008:63  в строительстве   \n",
       "4  272715510    77:01:0004011:83  в строительстве   \n",
       "\n",
       "                                AdmArea ConsrtuctionWorkType  \\\n",
       "0      Восточный административный округ  новое строительство   \n",
       "1   Юго-Западный административный округ  новое строительство   \n",
       "2   Юго-Западный административный округ  новое строительство   \n",
       "3  Юго-Восточный административный округ  новое строительство   \n",
       "4    Центральный административный округ  новое строительство   \n",
       "\n",
       "                                       DeveloperInfo  \\\n",
       "0                                             Причал   \n",
       "1  Местная религиозная организация православный п...   \n",
       "2                                              СУ155   \n",
       "3                                        МГПСС (ГКУ)   \n",
       "4                      ФСК Русское ЗолотоСтройинвест   \n",
       "\n",
       "                                            geometry  \n",
       "0  POLYGON ((37.69301 55.79759, 37.69305 55.79761...  \n",
       "1  POLYGON ((37.48959 55.62555, 37.48901 55.62576...  \n",
       "2  POLYGON ((37.56908 55.68539, 37.56934 55.68540...  \n",
       "3  POLYGON ((37.74137 55.69059, 37.74181 55.69040...  \n",
       "4  POLYGON ((37.59474 55.77145, 37.59631 55.77053...  "
      ]
     },
     "execution_count": 17,
     "metadata": {},
     "output_type": "execute_result"
    }
   ],
   "source": [
    "cols = ['global_id', 'CadastralNumber', 'ObjectStatus', 'AdmArea','ConsrtuctionWorkType','DeveloperInfo','geometry']\n",
    "\n",
    "df_pd[cols].head()"
   ]
  },
  {
   "cell_type": "markdown",
   "metadata": {
    "ExecuteTime": {
     "end_time": "2020-05-13T19:57:37.125807Z",
     "start_time": "2020-05-13T19:57:37.117472Z"
    }
   },
   "source": [
    "__Экспорт файла__"
   ]
  },
  {
   "cell_type": "code",
   "execution_count": 18,
   "metadata": {
    "ExecuteTime": {
     "end_time": "2020-05-13T19:57:44.824816Z",
     "start_time": "2020-05-13T19:57:43.855845Z"
    }
   },
   "outputs": [],
   "source": [
    "df_pd[cols].to_file('../msc_construction_upd.geojson', 'GeoJSON')"
   ]
  },
  {
   "cell_type": "code",
   "execution_count": null,
   "metadata": {},
   "outputs": [],
   "source": []
  }
 ],
 "metadata": {
  "kernelspec": {
   "display_name": "Python 3",
   "language": "python",
   "name": "python3"
  },
  "language_info": {
   "codemirror_mode": {
    "name": "ipython",
    "version": 3
   },
   "file_extension": ".py",
   "mimetype": "text/x-python",
   "name": "python",
   "nbconvert_exporter": "python",
   "pygments_lexer": "ipython3",
   "version": "3.7.4"
  },
  "toc": {
   "base_numbering": 1,
   "nav_menu": {},
   "number_sections": true,
   "sideBar": true,
   "skip_h1_title": false,
   "title_cell": "Table of Contents",
   "title_sidebar": "Contents",
   "toc_cell": false,
   "toc_position": {},
   "toc_section_display": true,
   "toc_window_display": false
  }
 },
 "nbformat": 4,
 "nbformat_minor": 2
}
